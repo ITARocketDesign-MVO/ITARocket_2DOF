{
 "cells": [
  {
   "cell_type": "code",
   "execution_count": null,
   "source": [
    "COMO DESCOBRIR A FÓRMULA (para pho em função da altura, para gravidade e vsom é analago):\r\n",
    "    #primeiro: adicionar os pacotes (packages)\r\n",
    "    #using Pkg\r\n",
    "    #Pkg.add(\"Plots\") ; Pkg.add(\"LsqFit\")\r\n",
    "        #agora o código:\r\n",
    "\r\n",
    "using Plots  \r\n",
    "using LsqFit\r\n",
    "h = [];         #vetor nulo\r\n",
    "pho = [];      #vetor nulo\r\n",
    "x = open(\"pho_standard.txt\",\"r\") do x2      #onde estão os dados\r\n",
    "    for i in eachline(x2) \r\n",
    "        numeros = rsplit(i, \"\\t\")               #Separa a string em um vetor de string (obs.: separa a string de acordo com o tab \"\\t\")\r\n",
    "                                                #parse serve pra transformar: parse(o formato que tu quer, o que você quer transformar)\r\n",
    "        if parse(Float64, numeros[1])<10001     #numeros[1] se refere à altura, numeros[5] à densidade do ar (pho) (para quando a altura é de 10 km (10000))\r\n",
    "                                                #Se a altura for superior a 10km paramos a coleta de dados (porque deixa de ser próximo de uma reta)              \r\n",
    "            push!(h, parse(Float64, numeros[1]));   #Push insere um elemento na próxima linha de uma matriz com uma coluna, push!(matriz, elemento)\r\n",
    "            push!(pho, parse(Float64, numeros[5]));#o elemento é o parse(...), \r\n",
    "        else break end\r\n",
    "   end\r\n",
    "end\r\n",
    "#use plot(h, pho) na command window para plotar o grafico\r\n",
    "\r\n",
    "#AGORA BUSCAR A FUNÇÃO DO GRÁFICO\r\n",
    "\r\n",
    "using LsqFit\r\n",
    "#ajustar uma reta\r\n",
    "@. model(x, p) = p[3]*x^2 + p[2]*x + p[1]    #O modelo da reta, \"p\" é um vetor contendo os termos do gráfico\r\n",
    "\r\n",
    "#estimativa dos parâmetros\r\n",
    "p0 = [10.0, 10.0, 10.0]               #p0 é o polinomio que contém de fato os termos numéricos, primeiro fazemos um \"chute\", no caso 10, 10 e 10\r\n",
    "fit = curve_fit(model, h, pho, p0)\r\n",
    "\r\n",
    "t=0:1:10000                     #para t indo de 1 a 10000 (t no caso significa o eixo x, que para o grafico é a altura)\r\n",
    "plot!(t, model(t, fit.param))   #plotamos o novo grafico pra ver se ficou legal\r\n",
    "\r\n",
    "println(fit.param)              #Vemos quais são os valores numéricos dos termos \r\n",
    "println(sum(fit.resid.^2))      #soma dos quadrados dos erros (para garantir que é baixo)\r\n",
    "\r\n",
    "#FONTE DOS DADOS:\r\n",
    "    Para pho: https://www.engineeringtoolbox.com/standard-atmosphere-d_604.html\r\n",
    "#Standard atmosphere"
   ],
   "outputs": [],
   "metadata": {}
  }
 ],
 "metadata": {
  "orig_nbformat": 4,
  "language_info": {
   "name": "plaintext"
  }
 },
 "nbformat": 4,
 "nbformat_minor": 2
}