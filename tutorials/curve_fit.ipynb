{
 "cells": [
  {
   "cell_type": "markdown",
   "metadata": {},
   "source": [
    "# COMO DESCOBRIR A FÓRMULAS \n",
    "## Para rho em função da altura`, para vsom é analago` \n",
    "## Primeiro adicionar os pacotes (packages):  "
   ]
  },
  {
   "cell_type": "code",
   "execution_count": null,
   "metadata": {},
   "outputs": [],
   "source": [
    "using Pkg\n",
    "Pkg.add(\"Plots\") \n",
    "Pkg.add(\"LsqFit\")"
   ]
  },
  {
   "cell_type": "markdown",
   "metadata": {},
   "source": [
    "## Agora o código para criarmos o vetor (altura x rho):  "
   ]
  },
  {
   "cell_type": "code",
   "execution_count": null,
   "metadata": {},
   "outputs": [],
   "source": [
    "using Plots  \n",
    "using LsqFit\n",
    "h = [];         #vetor nulo  \n",
    "rho = [];       #vetor nulo  \n",
    "x = open(\"rho_standard.txt\",\"r\") do x2              #onde estão os dados  \n",
    "    for i in eachline(x2)  \n",
    "        numeros = rsplit(i, \"\\t\")                   #Separa a string em um vetor de string (obs.: separa a string de acordo com o tab \"\\t\")  \n",
    "                                                    #parse serve pra transformar: parse(o formato que tu quer, o que você quer transformar)  \n",
    "        if parse(Float64, numeros[1])<10001         #numeros[1] se refere à altura, numeros[5] à densidade do ar (rho)\n",
    "                                                    #Se a altura for superior a 10km (1000) paramos a coleta de dados (porque deixa de ser próximo de uma reta)  \n",
    "            push!(h, parse(Float64, numeros[1]));   #Push insere um elemento na próxima linha de uma matriz com uma coluna, push!(matriz, elemento)  \n",
    "            push!(rho, parse(Float64, numeros[5])); #o elemento é o parse(...),  \n",
    "        else break end  \n",
    "   end  \n",
    "end  \n",
    "#use plot(h, rho) na command window para plotar o grafico  "
   ]
  },
  {
   "cell_type": "markdown",
   "metadata": {},
   "source": [
    "## Agora buscar a função do gráfico:  "
   ]
  },
  {
   "cell_type": "code",
   "execution_count": null,
   "metadata": {},
   "outputs": [],
   "source": [
    "using LsqFit  \n",
    "#ajustar uma reta  \n",
    "@. model(x, p) = p[3]*x^2 + p[2]*x + p[1]   #O modelo da reta, \"p\" é um vetor contendo os termos do gráfico  \n",
    "  \n",
    "#estimativa dos parâmetros  \n",
    "p0 = [10.0, 10.0, 10.0]                     #p0 é o polinomio que contém de fato os termos numéricos, primeiro fazemos um \"chute\", no caso 10, 10 e 10  \n",
    "fit = curve_fit(model, h, rho, p0)  \n",
    "  \n",
    "t=0:1:10000                                 #para t indo de 1 a 10000 (t no caso significa o eixo x, que para o grafico é a altura)  \n",
    "                                            #use plot!(t, model(t, fit.param)) para plotar o novo grafico em cima do \"plot(h, rho)\" pra ver se ficou legal  \n",
    "  \n",
    "println(fit.param)                          #Vemos quais são os valores numéricos dos termos   \n",
    "println(sum(fit.resid.^2))                  #soma dos quadrados dos erros (para garantir que é baixo)  "
   ]
  },
  {
   "cell_type": "markdown",
   "metadata": {},
   "source": [
    "### FONTE DOS DADOS:  \n",
    "[Para rho](https://www.engineeringtoolbox.com/standard-atmosphere-d_604.html)  \n",
    "[Para a velocidade do som](https://www.engineeringtoolbox.com/elevation-speed-sound-air-d_1534.html)  \n",
    "### Standard atmosphere"
   ]
  }
 ],
 "metadata": {
  "kernelspec": {
   "display_name": "Julia 1.6.2",
   "language": "julia",
   "name": "julia-1.6"
  },
  "language_info": {
   "file_extension": ".jl",
   "mimetype": "application/julia",
   "name": "julia",
   "version": "1.6.2"
  },
  "orig_nbformat": 4
 },
 "nbformat": 4,
 "nbformat_minor": 2
}
