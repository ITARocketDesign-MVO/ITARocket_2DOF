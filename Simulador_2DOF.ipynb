{
 "cells": [
  {
   "cell_type": "markdown",
   "metadata": {},
   "source": [
    "# Simulador 2-DOF da equipe ITA Rocket Design\n",
    "\n",
    "Desenvolvido em 2021 pela Mecânica de Voo.\n",
    "\n",
    "O propósito desse código é fornecer um ambiente interativo de simulação, no qual seja fácil e transparente alterar os parâmetros de voo do foguete. Esse notebook pode ser alterado conforme necessário! Os códigos da pasta */src* não devem ser alterados no uso cotidiano, porque são o \"motor\" da simulação. Caso seja necessária alguma mudança na dinâmica, o código que deve ser corrigido está lá.\n",
    "\n",
    "Vamos começar a simulação."
   ]
  },
  {
   "cell_type": "code",
   "execution_count": 1,
   "metadata": {},
   "outputs": [],
   "source": [
    "include(\"./src/Rocket_2DOF.jl\")\n",
    "using .Rocket_2DOF"
   ]
  },
  {
   "cell_type": "markdown",
   "metadata": {},
   "source": [
    "## Entrada manual dos parâmetros da simulação"
   ]
  },
  {
   "cell_type": "code",
   "execution_count": 2,
   "metadata": {},
   "outputs": [],
   "source": [
    "X₀, rocket, env = manual_input(;\n",
    "    empty_mass = 23.5,\n",
    "    rocket_cd = 0.4,\n",
    "    rocket_area = 0.08,\n",
    "    thrust = 2000,\n",
    "    propellant_mass = 4.5,\n",
    "    burn_time = 6.74,\n",
    "    drogue_cd = 1.5,\n",
    "    drogue_area = 0.7,\n",
    "    main_cd = 1.5,\n",
    "    main_area = 4,\n",
    "    launch_angle = 85,\n",
    "    launch_altitude = 1294,\n",
    "    rail_length = 5\n",
    ");"
   ]
  },
  {
   "cell_type": "markdown",
   "metadata": {},
   "source": [
    "## Simulação do voo\n",
    "\n",
    "Essa parte calcula uma lista de vetores de estado ao longo do voo. Ainda não é útil para a análise dos dados!"
   ]
  },
  {
   "cell_type": "code",
   "execution_count": 4,
   "metadata": {},
   "outputs": [
    {
     "ename": "LoadError",
     "evalue": "BoundsError: attempt to access 1000000-element Vector{Any} at index [1000001]",
     "output_type": "error",
     "traceback": [
      "BoundsError: attempt to access 1000000-element Vector{Any} at index [1000001]",
      "",
      "Stacktrace:",
      " [1] setindex!",
      "   @ .\\essentials.jl:458 [inlined]",
      " [2] solveStage(t::Float64, X0::Main.Rocket_2DOF.BaseDefinitions.StateVector, rocket::Main.Rocket_2DOF.BaseDefinitions.Rocket, env::Main.Rocket_2DOF.BaseDefinitions.Environment, phase::Int64, dt::Float64)",
      "   @ Main.Rocket_2DOF.Solver C:\\Users\\USER\\Desktop\\MVO\\ITARocket_2---DOF\\src\\rk4solve.jl:54",
      " [3] fullFlight(X0::Main.Rocket_2DOF.BaseDefinitions.StateVector, rocket::Main.Rocket_2DOF.BaseDefinitions.Rocket, env::Main.Rocket_2DOF.BaseDefinitions.Environment, dt::Float64)",
      "   @ Main.Rocket_2DOF.Solver C:\\Users\\USER\\Desktop\\MVO\\ITARocket_2---DOF\\src\\rk4solve.jl:89",
      " [4] fullFlight(X0::Main.Rocket_2DOF.BaseDefinitions.StateVector, rocket::Main.Rocket_2DOF.BaseDefinitions.Rocket, env::Main.Rocket_2DOF.BaseDefinitions.Environment)",
      "   @ Main.Rocket_2DOF.Solver C:\\Users\\USER\\Desktop\\MVO\\ITARocket_2---DOF\\src\\rk4solve.jl:81",
      " [5] top-level scope",
      "   @ In[4]:1",
      " [6] eval",
      "   @ .\\boot.jl:360 [inlined]",
      " [7] include_string(mapexpr::typeof(REPL.softscope), mod::Module, code::String, filename::String)",
      "   @ Base .\\loading.jl:1116"
     ]
    }
   ],
   "source": [
    "state_vector_list = fullFlight(X₀, rocket, env)"
   ]
  },
  {
   "cell_type": "code",
   "execution_count": null,
   "metadata": {},
   "outputs": [],
   "source": []
  }
 ],
 "metadata": {
  "kernelspec": {
   "display_name": "Julia 1.6.2",
   "language": "julia",
   "name": "julia-1.6"
  },
  "language_info": {
   "file_extension": ".jl",
   "mimetype": "application/julia",
   "name": "julia",
   "version": "1.6.2"
  }
 },
 "nbformat": 4,
 "nbformat_minor": 2
}
