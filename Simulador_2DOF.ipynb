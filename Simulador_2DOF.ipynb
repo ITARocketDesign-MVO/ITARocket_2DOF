{
 "cells": [
  {
   "cell_type": "markdown",
   "metadata": {},
   "source": [
    "# Simulador 2-DOF da equipe ITA Rocket Design\n",
    "\n",
    "Desenvolvido em 2021 pela Mecânica de Voo.\n",
    "\n",
    "O propósito desse código é fornecer um ambiente interativo de simulação, no qual seja fácil e transparente alterar os parâmetros de voo do foguete. Esse notebook pode ser alterado conforme necessário! Os códigos da pasta */src* não devem ser alterados no uso cotidiano, porque são o \"motor\" da simulação. Caso seja necessária alguma mudança na dinâmica, o código que deve ser corrigido está lá.\n",
    "\n",
    "Vamos começar a simulação."
   ]
  },
  {
   "cell_type": "code",
   "execution_count": 1,
   "metadata": {},
   "outputs": [],
   "source": [
    "include(\"./src/Rocket_2DOF.jl\")\n",
    "using .Rocket_2DOF"
   ]
  },
  {
   "cell_type": "markdown",
   "metadata": {},
   "source": [
    "## Entrada manual dos parâmetros da simulação"
   ]
  },
  {
   "cell_type": "code",
   "execution_count": 2,
   "metadata": {},
   "outputs": [],
   "source": [
    "X₀, rocket, env = manual_input(;\n",
    "    empty_mass = 23.5,\n",
    "    rocket_cd = 0.4,\n",
    "    rocket_area = 0.08,\n",
    "    thrust = 2000,\n",
    "    propellant_mass = 4.5,\n",
    "    burn_time = 6.74,\n",
    "    drogue_cd = 1.5,\n",
    "    drogue_area = 0.7,\n",
    "    main_cd = 1.5,\n",
    "    main_area = 4,\n",
    "    launch_angle = 85,\n",
    "    launch_altitude = 1294,\n",
    "    rail_length = 5\n",
    ");"
   ]
  },
  {
   "cell_type": "markdown",
   "metadata": {},
   "source": [
    "## Simulação do voo\n",
    "\n",
    "Essa parte calcula uma lista de vetores de estado ao longo do voo. Ainda não é útil para a análise dos dados!"
   ]
  },
  {
   "cell_type": "code",
   "execution_count": 3,
   "metadata": {},
   "outputs": [
    {
     "data": {
      "text/plain": [
       "Dict{Any, Any} with 6 entries:\n",
       "  \"rail\"      => (Any[StateVector(0.0, 0.0, 0.0, 0.0), StateVector(0.000897485,…\n",
       "  \"ballistic\" => (Any[StateVector(170.039, 1192.09, 45.0529, 285.376), StateVec…\n",
       "  \"thrusted\"  => (Any[StateVector(0.437092, 4.99598, 1.44334, 16.4975), StateVe…\n",
       "  \"drogue\"    => (Any[StateVector(537.691, 2643.48, 18.167, -0.00624153), State…\n",
       "  \"main\"      => (Any[StateVector(590.25, 299.981, 2.83286e-19, -20.4404), Stat…\n",
       "  \"end\"       => Any[StateVector(590.25, -0.00312261, 1.11719e-33, -8.41923)]"
      ]
     },
     "execution_count": 3,
     "metadata": {},
     "output_type": "execute_result"
    }
   ],
   "source": [
    "state_vector_list = fullFlight(X₀, rocket, env)"
   ]
  },
  {
   "cell_type": "code",
   "execution_count": null,
   "metadata": {},
   "outputs": [],
   "source": []
  }
 ],
 "metadata": {
  "kernelspec": {
   "display_name": "Julia 1.6.2",
   "language": "julia",
   "name": "julia-1.6"
  },
  "language_info": {
   "file_extension": ".jl",
   "mimetype": "application/julia",
   "name": "julia",
   "version": "1.6.2"
  }
 },
 "nbformat": 4,
 "nbformat_minor": 2
}
